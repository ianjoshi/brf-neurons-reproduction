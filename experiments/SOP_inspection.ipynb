{
 "cells": [
  {
   "cell_type": "code",
   "execution_count": 25,
   "id": "5e07bbac",
   "metadata": {},
   "outputs": [],
   "source": [
    "import torch\n",
    "import torchvision\n",
    "from torch.utils.data import DataLoader\n",
    "import snn  # your custom spiking network module\n",
    "import smnist.tools as tools\n",
    "import os\n",
    "import numpy as np\n",
    "from collections import defaultdict"
   ]
  },
  {
   "cell_type": "code",
   "execution_count": 26,
   "id": "b2058045",
   "metadata": {},
   "outputs": [],
   "source": [
    "def load_model(model_path):\n",
    "    if not os.path.isfile(model_path):\n",
    "        raise FileNotFoundError(f\"Model file not found: {model_path}\")\n",
    "    try:\n",
    "        model = torch.load(model_path, map_location=torch.device(\"cpu\"))\n",
    "        print(f\"Successfully loaded model: {model_path}\")\n",
    "        return model\n",
    "    except Exception as e:\n",
    "        print(f\"Error loading model {model_path}: {e}\")\n",
    "        return None"
   ]
  },
  {
   "cell_type": "code",
   "execution_count": 27,
   "id": "5f71f50e",
   "metadata": {},
   "outputs": [],
   "source": [
    "optimized_model_path1 = \"smnist/models/SMNIST_BRF.pt\"\n",
    "optimized_model_path2 = \"smnist/models/SMNIST_BRF_0.7Loss.pt\"\n",
    "optimized_model_path3 = \"smnist/models/SMNIST_BRF_0.6Loss.pt\"\n",
    "optimized_model_path4 = \"smnist/models/SMNIST_BRF_0.5Loss.pt\"\n",
    "device = torch.device(\"cuda\" if torch.cuda.is_available() else \"cpu\")\n",
    "batch_size = 10000\n",
    "sequence_length = 28 * 28\n",
    "input_size = 1\n",
    "hidden_size = 256\n",
    "num_classes = 10\n",
    "PERMUTED = False  # set True if testing on PSMNIST"
   ]
  },
  {
   "cell_type": "code",
   "execution_count": 28,
   "id": "6fbf1f87",
   "metadata": {},
   "outputs": [
    {
     "data": {
      "text/plain": [
       "SimpleResRNN(\n",
       "  (hidden): BRFCell(\n",
       "    (linear): Linear(in_features=257, out_features=256, bias=False)\n",
       "  )\n",
       "  (out): LICell(\n",
       "    (linear): Linear(in_features=256, out_features=10, bias=False)\n",
       "  )\n",
       ")"
      ]
     },
     "execution_count": 28,
     "metadata": {},
     "output_type": "execute_result"
    }
   ],
   "source": [
    "# Instantiate\n",
    "# SimpleVanillaRFRNN    RF\n",
    "# SimpleResRNN          BRF\n",
    "# SimpleALIFRNN         ALIF\n",
    "model = snn.models.SimpleResRNN(\n",
    "    input_size=input_size,\n",
    "    hidden_size=hidden_size,\n",
    "    output_size=num_classes,\n",
    "    label_last=True\n",
    ").to(device)\n",
    "\n",
    "# Load checkpoint\n",
    "checkpoint = torch.load(optimized_model_path4, map_location=device)\n",
    "model.load_state_dict(checkpoint['model_state_dict'])\n",
    "model.eval()"
   ]
  },
  {
   "cell_type": "code",
   "execution_count": 29,
   "id": "0ccf07dc",
   "metadata": {},
   "outputs": [],
   "source": [
    "test_dataset = torchvision.datasets.MNIST(\n",
    "    root=\"smnist/data\",\n",
    "    train=False,\n",
    "    transform=torchvision.transforms.ToTensor(),\n",
    "    download=True\n",
    ")\n",
    "\n",
    "test_loader = DataLoader(\n",
    "    dataset=test_dataset,\n",
    "    batch_size=batch_size,\n",
    "    shuffle=False,\n",
    "    pin_memory=(device.type == \"cuda\"),\n",
    "    num_workers=0\n",
    ")\n"
   ]
  },
  {
   "cell_type": "code",
   "execution_count": 30,
   "id": "c29aa978",
   "metadata": {},
   "outputs": [],
   "source": [
    "if PERMUTED:\n",
    "    permuted_idx = torch.load('smnist/models/SMNIST_BRF_init.pt')\n",
    "else:\n",
    "    permuted_idx = torch.arange(sequence_length)\n"
   ]
  },
  {
   "cell_type": "code",
   "execution_count": 31,
   "id": "e34a79af",
   "metadata": {},
   "outputs": [],
   "source": [
    "def transform_input_batch(tensor, sequence_length_, batch_size_, input_size_, permuted_idx_):\n",
    "    tensor = tensor.to(device=device).view(batch_size_, sequence_length_, input_size_)\n",
    "    tensor = tensor.permute(1, 0, 2)\n",
    "    tensor = tensor[permuted_idx_, :, :]\n",
    "    return tensor"
   ]
  },
  {
   "cell_type": "code",
   "execution_count": 32,
   "id": "67cd5ac5",
   "metadata": {},
   "outputs": [
    {
     "name": "stdout",
     "output_type": "stream",
     "text": [
      "Test loss: 0.160819, Test acc: 95.3700%, SOP: 3436.94, SOP per step: 4.3839, Mean firing rate per neuron: 0.017124\n"
     ]
    }
   ],
   "source": [
    "with torch.no_grad():\n",
    "    test_loss = 0.\n",
    "    test_correct = 0\n",
    "    total_spikes = 0.\n",
    "\n",
    "    for inputs, targets in test_loader:\n",
    "        current_batch_size = len(inputs)\n",
    "        inputs = transform_input_batch(inputs, sequence_length, current_batch_size, input_size, permuted_idx)\n",
    "        targets = targets.to(device)\n",
    "\n",
    "        # print(inputs)\n",
    "\n",
    "        outputs, _, num_spikes = model(inputs)\n",
    "\n",
    "        total_spikes += num_spikes.item()\n",
    "\n",
    "        # Loss\n",
    "        criterion = torch.nn.NLLLoss()\n",
    "        loss = tools.apply_seq_loss(criterion=criterion, outputs=outputs, target=targets)\n",
    "        loss_value = loss.item() / sequence_length if not model.label_last else loss.item()\n",
    "        test_loss += loss_value\n",
    "\n",
    "        # Accuracy\n",
    "        batch_correct = tools.count_correct_predictions(outputs.mean(dim=0), targets)\n",
    "        test_correct += batch_correct\n",
    "\n",
    "    # Final metrics\n",
    "    test_loss /= len(test_loader)\n",
    "    test_accuracy = (test_correct / len(test_dataset)) * 100.0\n",
    "    SOP = total_spikes / len(test_dataset)\n",
    "    SOP_per_step = SOP / sequence_length\n",
    "    firing_rate = total_spikes / (len(test_dataset) * sequence_length * hidden_size)\n",
    "\n",
    "print(\n",
    "    f'Test loss: {test_loss:.6f}, Test acc: {test_accuracy:.4f}%, SOP: {SOP:.2f}, SOP per step: {SOP_per_step:.4f}, '\n",
    "    f'Mean firing rate per neuron: {firing_rate:.6f}'\n",
    ")"
   ]
  }
 ],
 "metadata": {
  "kernelspec": {
   "display_name": "DSAIT4205",
   "language": "python",
   "name": "python3"
  },
  "language_info": {
   "codemirror_mode": {
    "name": "ipython",
    "version": 3
   },
   "file_extension": ".py",
   "mimetype": "text/x-python",
   "name": "python",
   "nbconvert_exporter": "python",
   "pygments_lexer": "ipython3",
   "version": "3.10.18"
  }
 },
 "nbformat": 4,
 "nbformat_minor": 5
}
